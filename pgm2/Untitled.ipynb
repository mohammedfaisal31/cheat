{
 "cells": [
  {
   "cell_type": "code",
   "execution_count": 1,
   "id": "7a2b3b3d",
   "metadata": {},
   "outputs": [],
   "source": [
    "import pandas as pd\n",
    "import numpy as np\n",
    "import matplotlib.pyplot as plt"
   ]
  },
  {
   "cell_type": "code",
   "execution_count": 3,
   "id": "7aca4abc",
   "metadata": {},
   "outputs": [
    {
     "data": {
      "text/html": [
       "<div>\n",
       "<style scoped>\n",
       "    .dataframe tbody tr th:only-of-type {\n",
       "        vertical-align: middle;\n",
       "    }\n",
       "\n",
       "    .dataframe tbody tr th {\n",
       "        vertical-align: top;\n",
       "    }\n",
       "\n",
       "    .dataframe thead th {\n",
       "        text-align: right;\n",
       "    }\n",
       "</style>\n",
       "<table border=\"1\" class=\"dataframe\">\n",
       "  <thead>\n",
       "    <tr style=\"text-align: right;\">\n",
       "      <th></th>\n",
       "      <th>Gender</th>\n",
       "      <th>Age Range</th>\n",
       "      <th>Head Size(cm^3)</th>\n",
       "      <th>Brain Weight(grams)</th>\n",
       "    </tr>\n",
       "  </thead>\n",
       "  <tbody>\n",
       "    <tr>\n",
       "      <th>0</th>\n",
       "      <td>1</td>\n",
       "      <td>1</td>\n",
       "      <td>4512</td>\n",
       "      <td>1530</td>\n",
       "    </tr>\n",
       "    <tr>\n",
       "      <th>1</th>\n",
       "      <td>1</td>\n",
       "      <td>1</td>\n",
       "      <td>3738</td>\n",
       "      <td>1297</td>\n",
       "    </tr>\n",
       "    <tr>\n",
       "      <th>2</th>\n",
       "      <td>1</td>\n",
       "      <td>1</td>\n",
       "      <td>4261</td>\n",
       "      <td>1335</td>\n",
       "    </tr>\n",
       "    <tr>\n",
       "      <th>3</th>\n",
       "      <td>1</td>\n",
       "      <td>1</td>\n",
       "      <td>3777</td>\n",
       "      <td>1282</td>\n",
       "    </tr>\n",
       "    <tr>\n",
       "      <th>4</th>\n",
       "      <td>1</td>\n",
       "      <td>1</td>\n",
       "      <td>4177</td>\n",
       "      <td>1590</td>\n",
       "    </tr>\n",
       "  </tbody>\n",
       "</table>\n",
       "</div>"
      ],
      "text/plain": [
       "   Gender  Age Range  Head Size(cm^3)  Brain Weight(grams)\n",
       "0       1          1             4512                 1530\n",
       "1       1          1             3738                 1297\n",
       "2       1          1             4261                 1335\n",
       "3       1          1             3777                 1282\n",
       "4       1          1             4177                 1590"
      ]
     },
     "execution_count": 3,
     "metadata": {},
     "output_type": "execute_result"
    }
   ],
   "source": [
    "df = pd.read_csv(r\"C:\\AIML_LAB\\pgm2\\headbrain.csv\")\n",
    "df.head()"
   ]
  },
  {
   "cell_type": "code",
   "execution_count": 4,
   "id": "e49848a3",
   "metadata": {},
   "outputs": [],
   "source": [
    "X = df[\"Head Size(cm^3)\"].values\n",
    "Y = df[\"Brain Weight(grams)\"].values\n"
   ]
  },
  {
   "cell_type": "code",
   "execution_count": 8,
   "id": "52a4b2a0",
   "metadata": {},
   "outputs": [
    {
     "data": {
      "text/plain": [
       "array([1530, 1297, 1335, 1282, 1590], dtype=int64)"
      ]
     },
     "execution_count": 8,
     "metadata": {},
     "output_type": "execute_result"
    }
   ],
   "source": [
    "X[:5]\n",
    "Y[:5]"
   ]
  },
  {
   "cell_type": "code",
   "execution_count": 9,
   "id": "564853dc",
   "metadata": {},
   "outputs": [],
   "source": [
    "mean_x = np.mean(X)\n",
    "mean_y = np.mean(Y)\n",
    "\n"
   ]
  },
  {
   "cell_type": "code",
   "execution_count": 11,
   "id": "84b0d752",
   "metadata": {},
   "outputs": [
    {
     "data": {
      "text/plain": [
       "1282.873417721519"
      ]
     },
     "execution_count": 11,
     "metadata": {},
     "output_type": "execute_result"
    }
   ],
   "source": [
    "mean_x\n",
    "mean_y\n"
   ]
  },
  {
   "cell_type": "code",
   "execution_count": 15,
   "id": "cd7e249d",
   "metadata": {},
   "outputs": [
    {
     "name": "stdout",
     "output_type": "stream",
     "text": [
      "Coefficients\n",
      "b0:325.57342104944223\n",
      "b1:0.26342933948939945\n"
     ]
    }
   ],
   "source": [
    "numer = 0\n",
    "denom = 0\n",
    "\n",
    "for i in range(len(X)):\n",
    "    numer = numer + (X[i]-mean_x)*(Y[i]-mean_y)\n",
    "    denom = denom + (X[i]-mean_x)**2\n",
    "b1 = numer/denom\n",
    "b0 = mean_y-(b1*mean_x)\n",
    "print(\"Coefficients\")\n",
    "print(\"b0:\"+str(b0))\n",
    "print(\"b1:\"+str(b1))\n",
    "\n",
    "    \n"
   ]
  },
  {
   "cell_type": "code",
   "execution_count": 33,
   "id": "bb2afde1",
   "metadata": {},
   "outputs": [],
   "source": [
    "max_x = np.max(X)+100\n",
    "min_x = np.min(X)-100\n",
    "x = np.linspace(min_x,max_x,1000)\n",
    "y =b0+b1*x\n",
    "\n"
   ]
  },
  {
   "cell_type": "code",
   "execution_count": 35,
   "id": "6ea45987",
   "metadata": {},
   "outputs": [
    {
     "data": {
      "image/png": "[encoded data removed]",
      "text/plain": [
       "<Figure size 432x288 with 1 Axes>"
      ]
     },
     "metadata": {
      "needs_background": "light"
     },
     "output_type": "display_data"
    }
   ],
   "source": [
    "plt.plot(x,y,color=\"blue\",label=\"Line\")\n",
    "plt.scatter(X,Y,c=\"black\",label=\"Scatter\")\n",
    "plt.xlabel(\"Head Size(cm^3)\")\n",
    "plt.ylabel(\"Brain Weight(grams)\")\n",
    "plt.legend()\n",
    "plt.show()\n",
    "\n"
   ]
  },
  {
   "cell_type": "code",
   "execution_count": 37,
   "id": "09a8dbb6",
   "metadata": {},
   "outputs": [
    {
     "data": {
      "text/plain": [
       "0.6393117199570003"
      ]
     },
     "execution_count": 37,
     "metadata": {},
     "output_type": "execute_result"
    }
   ],
   "source": [
    "ss_res = 0\n",
    "ss_tot = 0\n",
    "\n",
    "for i in range(len(X)):\n",
    "    y_pred = b0 + b1*X[i]\n",
    "    ss_res += (Y[i]-y_pred)**2\n",
    "    ss_tot += (Y[i]-mean_y)**2\n",
    "r2 = 1-(ss_res/ss_tot)\n",
    "r2\n",
    "    \n"
   ]
  },
  {
   "cell_type": "code",
   "execution_count": null,
   "id": "4f5341c5",
   "metadata": {},
   "outputs": [],
   "source": []
  }
 ],
 "metadata": {
  "kernelspec": {
   "display_name": "Python 3 (ipykernel)",
   "language": "python",
   "name": "python3"
  },
  "language_info": {
   "codemirror_mode": {
    "name": "ipython",
    "version": 3
   },
   "file_extension": ".py",
   "mimetype": "text/x-python",
   "name": "python",
   "nbconvert_exporter": "python",
   "pygments_lexer": "ipython3",
   "version": "3.9.7"
  }
 },
 "nbformat": 4,
 "nbformat_minor": 5
}
